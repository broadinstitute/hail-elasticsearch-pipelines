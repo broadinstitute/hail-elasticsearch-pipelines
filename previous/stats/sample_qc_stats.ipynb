{
 "cells": [
  {
   "cell_type": "code",
   "execution_count": 1,
   "metadata": {
    "collapsed": true
   },
   "outputs": [],
   "source": [
    "import pandas as pd"
   ]
  },
  {
   "cell_type": "code",
   "execution_count": 6,
   "metadata": {
    "collapsed": true
   },
   "outputs": [],
   "source": [
    "t = pd.read_table(\"./sample_qc_stats/NIAID.vep.sampleqc.txt\")"
   ]
  },
  {
   "cell_type": "code",
   "execution_count": 9,
   "metadata": {
    "collapsed": false
   },
   "outputs": [
    {
     "data": {
      "text/plain": [
       "0      0.019137\n",
       "1      0.019839\n",
       "2      0.016564\n",
       "3      0.021712\n",
       "4      0.013129\n",
       "5      0.018982\n",
       "6      0.021359\n",
       "7      0.018034\n",
       "8      0.018228\n",
       "9      0.012050\n",
       "10     0.011317\n",
       "11     0.012909\n",
       "12     0.016809\n",
       "13     0.013077\n",
       "14     0.024054\n",
       "15     0.017492\n",
       "16     0.014503\n",
       "17     0.020050\n",
       "18     0.013421\n",
       "19     0.012263\n",
       "20     0.017493\n",
       "21     0.019415\n",
       "22     0.019846\n",
       "23     0.012311\n",
       "24     0.018796\n",
       "25     0.016399\n",
       "26     0.017322\n",
       "27     0.018621\n",
       "28     0.013171\n",
       "29     0.018227\n",
       "         ...   \n",
       "283    0.019924\n",
       "284    0.018576\n",
       "285    0.018638\n",
       "286    0.016081\n",
       "287    0.025130\n",
       "288    0.018855\n",
       "289    0.018081\n",
       "290    0.019102\n",
       "291    0.017844\n",
       "292    0.019571\n",
       "293    0.017780\n",
       "294    0.018246\n",
       "295    0.013561\n",
       "296    0.018019\n",
       "297    0.018280\n",
       "298    0.020022\n",
       "299    0.011568\n",
       "300    0.018249\n",
       "301    0.019081\n",
       "302    0.015697\n",
       "303    0.012543\n",
       "304    0.018393\n",
       "305    0.019037\n",
       "306    0.016752\n",
       "307    0.018753\n",
       "308    0.012041\n",
       "309    0.020580\n",
       "310    0.012447\n",
       "311    0.018421\n",
       "312    0.019604\n",
       "dtype: float64"
      ]
     },
     "execution_count": 9,
     "metadata": {},
     "output_type": "execute_result"
    }
   ],
   "source": [
    "t.nNotCalled/(t.nCalled+t.nNotCalled)"
   ]
  },
  {
   "cell_type": "code",
   "execution_count": null,
   "metadata": {
    "collapsed": true
   },
   "outputs": [],
   "source": []
  }
 ],
 "metadata": {
  "kernelspec": {
   "display_name": "Python 2",
   "language": "python",
   "name": "python2"
  },
  "language_info": {
   "codemirror_mode": {
    "name": "ipython",
    "version": 2
   },
   "file_extension": ".py",
   "mimetype": "text/x-python",
   "name": "python",
   "nbconvert_exporter": "python",
   "pygments_lexer": "ipython2",
   "version": "2.7.11"
  }
 },
 "nbformat": 4,
 "nbformat_minor": 0
}
